{
  "nbformat": 4,
  "nbformat_minor": 0,
  "metadata": {
    "colab": {
      "provenance": [],
      "authorship_tag": "ABX9TyNpZLTGZAEAzZJC5JhHpEm4",
      "include_colab_link": true
    },
    "kernelspec": {
      "name": "python3",
      "display_name": "Python 3"
    },
    "language_info": {
      "name": "python"
    }
  },
  "cells": [
    {
      "cell_type": "markdown",
      "metadata": {
        "id": "view-in-github",
        "colab_type": "text"
      },
      "source": [
        "<a href=\"https://colab.research.google.com/github/Abdelrhman-Sameeh/Heart-Disease-Prediction/blob/main/notebooks/01_heart_disease_analysis.ipynb\" target=\"_parent\"><img src=\"https://colab.research.google.com/assets/colab-badge.svg\" alt=\"Open In Colab\"/></a>"
      ]
    },
    {
      "cell_type": "code",
      "execution_count": 1,
      "metadata": {
        "colab": {
          "base_uri": "https://localhost:8080/"
        },
        "id": "Z91ecRzddlk4",
        "outputId": "f63043d5-f14f-4f58-b495-ff384413c72d"
      },
      "outputs": [
        {
          "output_type": "stream",
          "name": "stdout",
          "text": [
            "Folders created!\n"
          ]
        }
      ],
      "source": [
        "import os\n",
        "os.makedirs('/content/heart_project/data', exist_ok=True)\n",
        "os.makedirs('/content/heart_project/notebooks', exist_ok=True)\n",
        "print(\"Folders created!\")"
      ]
    },
    {
      "cell_type": "code",
      "source": [
        "!wget -P /content/heart_project/data/ https://archive.ics.uci.edu/ml/machine-learning-databases/heart-disease/processed.cleveland.data\n",
        "\n",
        "# Add column names\n",
        "column_names = \"age,sex,cp,trestbps,chol,fbs,restecg,thalach,exang,oldpeak,slope,ca,thal,num\"\n",
        "with open('/content/heart_project/data/heart_disease.csv', 'w') as f:\n",
        "    f.write(column_names + '\\n')\n",
        "    f.write(open('/content/heart_project/data/processed.cleveland.data').read())"
      ],
      "metadata": {
        "colab": {
          "base_uri": "https://localhost:8080/"
        },
        "id": "KhRFbyc-dmYG",
        "outputId": "8d2e2f58-007b-4fa4-9b43-124f4fb72e08"
      },
      "execution_count": 2,
      "outputs": [
        {
          "output_type": "stream",
          "name": "stdout",
          "text": [
            "--2025-07-15 00:22:56--  https://archive.ics.uci.edu/ml/machine-learning-databases/heart-disease/processed.cleveland.data\n",
            "Resolving archive.ics.uci.edu (archive.ics.uci.edu)... 128.195.10.252\n",
            "Connecting to archive.ics.uci.edu (archive.ics.uci.edu)|128.195.10.252|:443... connected.\n",
            "HTTP request sent, awaiting response... 200 OK\n",
            "Length: unspecified\n",
            "Saving to: ‘/content/heart_project/data/processed.cleveland.data’\n",
            "\n",
            "processed.cleveland     [ <=>                ]  18.03K  --.-KB/s    in 0.07s   \n",
            "\n",
            "2025-07-15 00:22:56 (275 KB/s) - ‘/content/heart_project/data/processed.cleveland.data’ saved [18461]\n",
            "\n"
          ]
        }
      ]
    },
    {
      "cell_type": "code",
      "source": [
        "import pandas as pd\n",
        "\n",
        "# Check file content\n",
        "with open('/content/heart_project/data/processed.cleveland.data') as f:\n",
        "    print(f\"First 5 lines:\\n{f.readlines()[:5]}\")\n",
        "\n",
        "# Load into DataFrame (with your column names)\n",
        "df = pd.read_csv('/content/heart_project/data/heart_disease.csv')\n",
        "print(f\"\\nDataFrame shape: {df.shape}\")\n",
        "print(df.head())"
      ],
      "metadata": {
        "colab": {
          "base_uri": "https://localhost:8080/"
        },
        "id": "DYkIlA8_dqC9",
        "outputId": "58303db9-ad17-4bdd-f237-1413133c39ab"
      },
      "execution_count": 3,
      "outputs": [
        {
          "output_type": "stream",
          "name": "stdout",
          "text": [
            "First 5 lines:\n",
            "['63.0,1.0,1.0,145.0,233.0,1.0,2.0,150.0,0.0,2.3,3.0,0.0,6.0,0\\n', '67.0,1.0,4.0,160.0,286.0,0.0,2.0,108.0,1.0,1.5,2.0,3.0,3.0,2\\n', '67.0,1.0,4.0,120.0,229.0,0.0,2.0,129.0,1.0,2.6,2.0,2.0,7.0,1\\n', '37.0,1.0,3.0,130.0,250.0,0.0,0.0,187.0,0.0,3.5,3.0,0.0,3.0,0\\n', '41.0,0.0,2.0,130.0,204.0,0.0,2.0,172.0,0.0,1.4,1.0,0.0,3.0,0\\n']\n",
            "\n",
            "DataFrame shape: (303, 14)\n",
            "    age  sex   cp  trestbps   chol  fbs  restecg  thalach  exang  oldpeak  \\\n",
            "0  63.0  1.0  1.0     145.0  233.0  1.0      2.0    150.0    0.0      2.3   \n",
            "1  67.0  1.0  4.0     160.0  286.0  0.0      2.0    108.0    1.0      1.5   \n",
            "2  67.0  1.0  4.0     120.0  229.0  0.0      2.0    129.0    1.0      2.6   \n",
            "3  37.0  1.0  3.0     130.0  250.0  0.0      0.0    187.0    0.0      3.5   \n",
            "4  41.0  0.0  2.0     130.0  204.0  0.0      2.0    172.0    0.0      1.4   \n",
            "\n",
            "   slope   ca thal  num  \n",
            "0    3.0  0.0  6.0    0  \n",
            "1    2.0  3.0  3.0    2  \n",
            "2    2.0  2.0  7.0    1  \n",
            "3    3.0  0.0  3.0    0  \n",
            "4    1.0  0.0  3.0    0  \n"
          ]
        }
      ]
    },
    {
      "cell_type": "code",
      "source": [],
      "metadata": {
        "id": "Si9tvGcUd9do"
      },
      "execution_count": null,
      "outputs": []
    }
  ]
}